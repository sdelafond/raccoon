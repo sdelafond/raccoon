{
 "cells": [
  {
   "cell_type": "markdown",
   "metadata": {
    "deletable": true,
    "editable": true
   },
   "source": [
    "Example Usage for Series\n",
    "========================"
   ]
  },
  {
   "cell_type": "code",
   "execution_count": 50,
   "metadata": {
    "collapsed": false
   },
   "outputs": [],
   "source": [
    "# remove comment to use latest development version\n",
    "import sys; sys.path.insert(0, '../')"
   ]
  },
  {
   "cell_type": "code",
   "execution_count": 51,
   "metadata": {
    "collapsed": false,
    "deletable": true,
    "editable": true
   },
   "outputs": [],
   "source": [
    "# import libraries\n",
    "import raccoon as rc"
   ]
  },
  {
   "cell_type": "markdown",
   "metadata": {
    "deletable": true,
    "editable": true
   },
   "source": [
    "Initialize\n",
    "----------"
   ]
  },
  {
   "cell_type": "code",
   "execution_count": 52,
   "metadata": {
    "collapsed": false,
    "deletable": true,
    "editable": true
   },
   "outputs": [
    {
     "data": {
      "text/plain": [
       "object id: 1891392163736\n",
       "data:\n",
       "[]\n",
       "index:\n",
       "[]"
      ]
     },
     "execution_count": 52,
     "metadata": {},
     "output_type": "execute_result"
    }
   ],
   "source": [
    "# empty DataFrame\n",
    "srs = rc.Series()\n",
    "srs"
   ]
  },
  {
   "cell_type": "code",
   "execution_count": 53,
   "metadata": {
    "collapsed": false,
    "deletable": true,
    "editable": true
   },
   "outputs": [
    {
     "data": {
      "text/plain": [
       "object id: 1891392163568\n",
       "data:\n",
       "[None, None, None]\n",
       "index:\n",
       "[1, 2, 3]"
      ]
     },
     "execution_count": 53,
     "metadata": {},
     "output_type": "execute_result"
    }
   ],
   "source": [
    "# with indexes but no data\n",
    "srs = rc.Series(index=[1, 2, 3])\n",
    "srs"
   ]
  },
  {
   "cell_type": "code",
   "execution_count": 54,
   "metadata": {
    "collapsed": false,
    "deletable": true,
    "editable": true
   },
   "outputs": [
    {
     "data": {
      "text/plain": [
       "object id: 1891392217440\n",
       "data:\n",
       "[4, 5, 6]\n",
       "index:\n",
       "[10, 11, 12]"
      ]
     },
     "execution_count": 54,
     "metadata": {},
     "output_type": "execute_result"
    }
   ],
   "source": [
    "# with data\n",
    "srs = rc.Series(data=[4, 5, 6], index=[10, 11, 12])\n",
    "srs"
   ]
  },
  {
   "cell_type": "markdown",
   "metadata": {
    "deletable": true,
    "editable": true
   },
   "source": [
    "Print\n",
    "-----"
   ]
  },
  {
   "cell_type": "code",
   "execution_count": 55,
   "metadata": {
    "collapsed": false,
    "deletable": true,
    "editable": true
   },
   "outputs": [
    {
     "name": "stdout",
     "output_type": "stream",
     "text": [
      "  index    value\n",
      "-------  -------\n",
      "     10        4\n",
      "     11        5\n",
      "     12        6\n"
     ]
    }
   ],
   "source": [
    "srs.show()"
   ]
  },
  {
   "cell_type": "code",
   "execution_count": 56,
   "metadata": {
    "collapsed": false
   },
   "outputs": [
    {
     "name": "stdout",
     "output_type": "stream",
     "text": [
      "  index    value\n",
      "-------  -------\n",
      "     10        4\n",
      "     11        5\n",
      "     12        6\n"
     ]
    }
   ],
   "source": [
    "print(srs)"
   ]
  },
  {
   "cell_type": "markdown",
   "metadata": {
    "deletable": true,
    "editable": true
   },
   "source": [
    "Setters and Getters\n",
    "-------------------"
   ]
  },
  {
   "cell_type": "code",
   "execution_count": 57,
   "metadata": {
    "collapsed": false,
    "deletable": true,
    "editable": true
   },
   "outputs": [
    {
     "data": {
      "text/plain": [
       "'value'"
      ]
     },
     "execution_count": 57,
     "metadata": {},
     "output_type": "execute_result"
    }
   ],
   "source": [
    "# data_name\n",
    "srs.data_name"
   ]
  },
  {
   "cell_type": "code",
   "execution_count": 58,
   "metadata": {
    "collapsed": false,
    "deletable": true,
    "editable": true
   },
   "outputs": [
    {
     "name": "stdout",
     "output_type": "stream",
     "text": [
      "  index    new_data\n",
      "-------  ----------\n",
      "     10           4\n",
      "     11           5\n",
      "     12           6\n"
     ]
    }
   ],
   "source": [
    "srs.data_name = 'new_data'\n",
    "print(srs)"
   ]
  },
  {
   "cell_type": "code",
   "execution_count": 59,
   "metadata": {
    "collapsed": false,
    "deletable": true,
    "editable": true
   },
   "outputs": [
    {
     "data": {
      "text/plain": [
       "[10, 11, 12]"
      ]
     },
     "execution_count": 59,
     "metadata": {},
     "output_type": "execute_result"
    }
   ],
   "source": [
    "# index\n",
    "srs.index"
   ]
  },
  {
   "cell_type": "code",
   "execution_count": 60,
   "metadata": {
    "collapsed": false,
    "deletable": true,
    "editable": true
   },
   "outputs": [
    {
     "name": "stdout",
     "output_type": "stream",
     "text": [
      "index      new_data\n",
      "-------  ----------\n",
      "apple             4\n",
      "pear              5\n",
      "7.7               6\n"
     ]
    }
   ],
   "source": [
    "#indexes can be any non-repeating unique values\n",
    "srs.index = ['apple', 'pear', 7.7]\n",
    "srs.show()"
   ]
  },
  {
   "cell_type": "code",
   "execution_count": 61,
   "metadata": {
    "collapsed": false,
    "deletable": true,
    "editable": true
   },
   "outputs": [
    {
     "name": "stdout",
     "output_type": "stream",
     "text": [
      "  index    new_data\n",
      "-------  ----------\n",
      "     10           4\n",
      "     11           5\n",
      "     12           6\n"
     ]
    }
   ],
   "source": [
    "srs.index = [10, 11, 12]\n",
    "print(srs)"
   ]
  },
  {
   "cell_type": "code",
   "execution_count": 62,
   "metadata": {
    "collapsed": false,
    "deletable": true,
    "editable": true
   },
   "outputs": [
    {
     "data": {
      "text/plain": [
       "'index'"
      ]
     },
     "execution_count": 62,
     "metadata": {},
     "output_type": "execute_result"
    }
   ],
   "source": [
    "# the index can also have a name, befault it is \"index\"\n",
    "srs.index_name"
   ]
  },
  {
   "cell_type": "code",
   "execution_count": 63,
   "metadata": {
    "collapsed": false,
    "deletable": true,
    "editable": true
   },
   "outputs": [
    {
     "data": {
      "text/plain": [
       "'units'"
      ]
     },
     "execution_count": 63,
     "metadata": {},
     "output_type": "execute_result"
    }
   ],
   "source": [
    "srs.index_name = 'units'\n",
    "srs.index_name"
   ]
  },
  {
   "cell_type": "code",
   "execution_count": 64,
   "metadata": {
    "collapsed": false,
    "deletable": true,
    "editable": true
   },
   "outputs": [
    {
     "data": {
      "text/plain": [
       "[4, 5, 6]"
      ]
     },
     "execution_count": 64,
     "metadata": {},
     "output_type": "execute_result"
    }
   ],
   "source": [
    "# data is a shallow copy, be careful on how this is used\n",
    "srs.index_name = 'index'\n",
    "srs.data"
   ]
  },
  {
   "cell_type": "markdown",
   "metadata": {
    "deletable": true,
    "editable": true
   },
   "source": [
    "Select Index\n",
    "------------"
   ]
  },
  {
   "cell_type": "code",
   "execution_count": 65,
   "metadata": {
    "collapsed": false,
    "deletable": true,
    "editable": true
   },
   "outputs": [
    {
     "data": {
      "text/plain": [
       "[False, True, False]"
      ]
     },
     "execution_count": 65,
     "metadata": {},
     "output_type": "execute_result"
    }
   ],
   "source": [
    "srs.select_index(11)"
   ]
  },
  {
   "cell_type": "markdown",
   "metadata": {
    "deletable": true,
    "editable": true
   },
   "source": [
    "Set Values\n",
    "----------"
   ]
  },
  {
   "cell_type": "code",
   "execution_count": 66,
   "metadata": {
    "collapsed": false,
    "deletable": true,
    "editable": true
   },
   "outputs": [
    {
     "name": "stdout",
     "output_type": "stream",
     "text": [
      "  index    new_data\n",
      "-------  ----------\n",
      "     10         100\n",
      "     11           5\n",
      "     12           6\n"
     ]
    }
   ],
   "source": [
    "# set a single cell\n",
    "srs.set(10, 100)\n",
    "print(srs)"
   ]
  },
  {
   "cell_type": "code",
   "execution_count": 67,
   "metadata": {
    "collapsed": false,
    "deletable": true,
    "editable": true
   },
   "outputs": [
    {
     "name": "stdout",
     "output_type": "stream",
     "text": [
      "  index    new_data\n",
      "-------  ----------\n",
      "     10         100\n",
      "     11           5\n",
      "     12           6\n",
      "     13           9\n"
     ]
    }
   ],
   "source": [
    "# set a value outside current range creates a new row. Can also use [] for setting\n",
    "srs[13] = 9\n",
    "srs.show()"
   ]
  },
  {
   "cell_type": "code",
   "execution_count": 68,
   "metadata": {
    "collapsed": false,
    "deletable": true,
    "editable": true
   },
   "outputs": [
    {
     "name": "stdout",
     "output_type": "stream",
     "text": [
      "  index    new_data\n",
      "-------  ----------\n",
      "     10          66\n",
      "     11           5\n",
      "     12          66\n",
      "     13           9\n"
     ]
    }
   ],
   "source": [
    "# set a subset of rows\n",
    "srs[[10, 12]] = 66\n",
    "print(srs)"
   ]
  },
  {
   "cell_type": "code",
   "execution_count": 69,
   "metadata": {
    "collapsed": false,
    "deletable": true,
    "editable": true
   },
   "outputs": [
    {
     "name": "stdout",
     "output_type": "stream",
     "text": [
      "  index    new_data\n",
      "-------  ----------\n",
      "     10          88\n",
      "     11           5\n",
      "     12          99\n",
      "     13           9\n"
     ]
    }
   ],
   "source": [
    "# using boolean list\n",
    "srs.set([True, False, True, False], [88, 99])\n",
    "print(srs)"
   ]
  },
  {
   "cell_type": "code",
   "execution_count": 70,
   "metadata": {
    "collapsed": false,
    "deletable": true,
    "editable": true
   },
   "outputs": [
    {
     "name": "stdout",
     "output_type": "stream",
     "text": [
      "  index    new_data\n",
      "-------  ----------\n",
      "     10          88\n",
      "     11           5\n",
      "     12          33\n",
      "     13          33\n"
     ]
    }
   ],
   "source": [
    "# setting with slices\n",
    "srs[12:13] = 33\n",
    "print(srs)"
   ]
  },
  {
   "cell_type": "code",
   "execution_count": 71,
   "metadata": {
    "collapsed": false,
    "deletable": true,
    "editable": true
   },
   "outputs": [
    {
     "name": "stdout",
     "output_type": "stream",
     "text": [
      "  index    new_data\n",
      "-------  ----------\n",
      "     10           1\n",
      "     11           2\n",
      "     12           3\n",
      "     13          33\n"
     ]
    }
   ],
   "source": [
    "srs[10:12] = [1, 2, 3]\n",
    "print(srs)"
   ]
  },
  {
   "cell_type": "code",
   "execution_count": 72,
   "metadata": {
    "collapsed": false
   },
   "outputs": [
    {
     "name": "stdout",
     "output_type": "stream",
     "text": [
      "  index    new_data\n",
      "-------  ----------\n",
      "     10           1\n",
      "     11          22\n",
      "     12           3\n",
      "     13          33\n"
     ]
    }
   ],
   "source": [
    "# set a location\n",
    "srs.set_location(1, 22)\n",
    "print(srs)"
   ]
  },
  {
   "cell_type": "code",
   "execution_count": 73,
   "metadata": {
    "collapsed": false
   },
   "outputs": [
    {
     "name": "stdout",
     "output_type": "stream",
     "text": [
      "  index    new_data\n",
      "-------  ----------\n",
      "     10          11\n",
      "     11          22\n",
      "     12          27\n",
      "     13          33\n"
     ]
    }
   ],
   "source": [
    "# set multiple locations\n",
    "srs.set_locations([0, 2], [11, 27])\n",
    "print(srs)"
   ]
  },
  {
   "cell_type": "code",
   "execution_count": 74,
   "metadata": {
    "collapsed": false,
    "deletable": true,
    "editable": true
   },
   "outputs": [
    {
     "name": "stdout",
     "output_type": "stream",
     "text": [
      "  index    new_data\n",
      "-------  ----------\n",
      "     10          11\n",
      "     11          22\n",
      "     12          27\n",
      "     13          33\n",
      "     14          99\n"
     ]
    }
   ],
   "source": [
    "# append a row, DANGEROUS as there is not validation checking, but can be used for speed\n",
    "srs.append_row(14, 99)\n",
    "print(srs)"
   ]
  },
  {
   "cell_type": "code",
   "execution_count": 75,
   "metadata": {
    "collapsed": false
   },
   "outputs": [
    {
     "name": "stdout",
     "output_type": "stream",
     "text": [
      "  index    new_data\n",
      "-------  ----------\n",
      "     10          11\n",
      "     11          22\n",
      "     12          27\n",
      "     13          33\n",
      "     14          99\n",
      "     15         100\n",
      "     16         110\n"
     ]
    }
   ],
   "source": [
    "# append multiple rows, again no sort check\n",
    "srs.append_rows([15, 16], [100, 110])\n",
    "print(srs)"
   ]
  },
  {
   "cell_type": "markdown",
   "metadata": {
    "deletable": true,
    "editable": true
   },
   "source": [
    "Get Values\n",
    "----------"
   ]
  },
  {
   "cell_type": "code",
   "execution_count": 76,
   "metadata": {
    "collapsed": false,
    "deletable": true,
    "editable": true
   },
   "outputs": [
    {
     "data": {
      "text/plain": [
       "11"
      ]
     },
     "execution_count": 76,
     "metadata": {},
     "output_type": "execute_result"
    }
   ],
   "source": [
    "# get a single cell\n",
    "srs[10]"
   ]
  },
  {
   "cell_type": "code",
   "execution_count": 77,
   "metadata": {
    "collapsed": false,
    "deletable": true,
    "editable": true
   },
   "outputs": [
    {
     "name": "stdout",
     "output_type": "stream",
     "text": [
      "  index    new_data\n",
      "-------  ----------\n",
      "     11          22\n",
      "     12          27\n",
      "     13          33\n"
     ]
    }
   ],
   "source": [
    "# get subset of the index\n",
    "srs[[11, 12, 13]].show()"
   ]
  },
  {
   "cell_type": "code",
   "execution_count": 78,
   "metadata": {
    "collapsed": false,
    "deletable": true,
    "editable": true
   },
   "outputs": [
    {
     "name": "stdout",
     "output_type": "stream",
     "text": [
      "  index    new_data\n",
      "-------  ----------\n",
      "     11          22\n",
      "     12          27\n",
      "     13          33\n"
     ]
    }
   ],
   "source": [
    "# get using slices\n",
    "srs[11:13].show()"
   ]
  },
  {
   "cell_type": "code",
   "execution_count": 79,
   "metadata": {
    "collapsed": false,
    "deletable": true,
    "editable": true
   },
   "outputs": [
    {
     "data": {
      "text/plain": [
       "[22, 27, 33]"
      ]
     },
     "execution_count": 79,
     "metadata": {},
     "output_type": "execute_result"
    }
   ],
   "source": [
    "# return as a list\n",
    "srs.get([11, 12, 13], as_list=True)"
   ]
  },
  {
   "cell_type": "markdown",
   "metadata": {
    "deletable": true,
    "editable": true
   },
   "source": [
    "Set and Get by Location\n",
    "-----------------------\n",
    "Locations are the index of the index, in other words the index locations from 0...len(index)"
   ]
  },
  {
   "cell_type": "code",
   "execution_count": 80,
   "metadata": {
    "collapsed": false
   },
   "outputs": [
    {
     "name": "stdout",
     "output_type": "stream",
     "text": [
      "{'index': 12, 'new_data': 27}\n"
     ]
    }
   ],
   "source": [
    "print(srs.get_location(2))"
   ]
  },
  {
   "cell_type": "code",
   "execution_count": 81,
   "metadata": {
    "collapsed": false
   },
   "outputs": [
    {
     "data": {
      "text/plain": [
       "{'index': 16, 'new_data': 110}"
      ]
     },
     "execution_count": 81,
     "metadata": {},
     "output_type": "execute_result"
    }
   ],
   "source": [
    "srs.get_location(-1)"
   ]
  },
  {
   "cell_type": "code",
   "execution_count": 82,
   "metadata": {
    "collapsed": false,
    "deletable": true,
    "editable": true
   },
   "outputs": [
    {
     "name": "stdout",
     "output_type": "stream",
     "text": [
      "  index    new_data\n",
      "-------  ----------\n",
      "     10          11\n",
      "     12          27\n"
     ]
    }
   ],
   "source": [
    "srs.get_locations(locations=[0, 2]).show()"
   ]
  },
  {
   "cell_type": "code",
   "execution_count": 83,
   "metadata": {
    "collapsed": false,
    "deletable": true,
    "editable": true
   },
   "outputs": [
    {
     "data": {
      "text/plain": [
       "[11, 27]"
      ]
     },
     "execution_count": 83,
     "metadata": {},
     "output_type": "execute_result"
    }
   ],
   "source": [
    "srs.get_locations(locations=[0, 2], as_list=True)"
   ]
  },
  {
   "cell_type": "code",
   "execution_count": 84,
   "metadata": {
    "collapsed": false
   },
   "outputs": [
    {
     "name": "stdout",
     "output_type": "stream",
     "text": [
      "  index    new_data\n",
      "-------  ----------\n",
      "     10          11\n",
      "     11          22\n",
      "     12          27\n",
      "     13          33\n",
      "     14          99\n",
      "     15           9\n",
      "     16          10\n"
     ]
    }
   ],
   "source": [
    "srs.set_locations([-1, -2], values=[10, 9])\n",
    "print(srs)"
   ]
  },
  {
   "cell_type": "markdown",
   "metadata": {
    "deletable": true,
    "editable": true
   },
   "source": [
    "Head and Tail\n",
    "-------------"
   ]
  },
  {
   "cell_type": "code",
   "execution_count": 85,
   "metadata": {
    "collapsed": false,
    "deletable": true,
    "editable": true
   },
   "outputs": [
    {
     "name": "stdout",
     "output_type": "stream",
     "text": [
      "  index    new_data\n",
      "-------  ----------\n",
      "     10          11\n",
      "     11          22\n"
     ]
    }
   ],
   "source": [
    "srs.head(2).show()"
   ]
  },
  {
   "cell_type": "code",
   "execution_count": 86,
   "metadata": {
    "collapsed": false,
    "deletable": true,
    "editable": true
   },
   "outputs": [
    {
     "name": "stdout",
     "output_type": "stream",
     "text": [
      "  index    new_data\n",
      "-------  ----------\n",
      "     15           9\n",
      "     16          10\n"
     ]
    }
   ],
   "source": [
    "srs.tail(2).show()"
   ]
  },
  {
   "cell_type": "markdown",
   "metadata": {
    "deletable": true,
    "editable": true
   },
   "source": [
    "Delete rows\n",
    "-------------"
   ]
  },
  {
   "cell_type": "code",
   "execution_count": 87,
   "metadata": {
    "collapsed": false,
    "deletable": true,
    "editable": true
   },
   "outputs": [
    {
     "name": "stdout",
     "output_type": "stream",
     "text": [
      "  index    new_data\n",
      "-------  ----------\n",
      "     11          22\n",
      "     12          27\n",
      "     14          99\n",
      "     15           9\n",
      "     16          10\n"
     ]
    }
   ],
   "source": [
    "srs.delete([10, 13])\n",
    "print(srs)"
   ]
  },
  {
   "cell_type": "markdown",
   "metadata": {
    "deletable": true,
    "editable": true
   },
   "source": [
    "Convert\n",
    "-------"
   ]
  },
  {
   "cell_type": "code",
   "execution_count": 88,
   "metadata": {
    "collapsed": false,
    "deletable": true,
    "editable": true
   },
   "outputs": [
    {
     "data": {
      "text/plain": [
       "{'index': [11, 12, 14, 15, 16], 'new_data': [22, 27, 99, 9, 10]}"
      ]
     },
     "execution_count": 88,
     "metadata": {},
     "output_type": "execute_result"
    }
   ],
   "source": [
    "# return a dict\n",
    "srs.to_dict()"
   ]
  },
  {
   "cell_type": "code",
   "execution_count": 89,
   "metadata": {
    "collapsed": false,
    "deletable": true,
    "editable": true
   },
   "outputs": [
    {
     "data": {
      "text/plain": [
       "{'new_data': [22, 27, 99, 9, 10]}"
      ]
     },
     "execution_count": 89,
     "metadata": {},
     "output_type": "execute_result"
    }
   ],
   "source": [
    "# exclude the index\n",
    "srs.to_dict(index=False)"
   ]
  },
  {
   "cell_type": "code",
   "execution_count": 90,
   "metadata": {
    "collapsed": false,
    "deletable": true,
    "editable": true
   },
   "outputs": [
    {
     "data": {
      "text/plain": [
       "OrderedDict([('index', [11, 12, 14, 15, 16]),\n",
       "             ('new_data', [22, 27, 99, 9, 10])])"
      ]
     },
     "execution_count": 90,
     "metadata": {},
     "output_type": "execute_result"
    }
   ],
   "source": [
    "# return an OrderedDict()\n",
    "srs.to_dict(ordered=True)"
   ]
  },
  {
   "cell_type": "markdown",
   "metadata": {
    "deletable": true,
    "editable": true
   },
   "source": [
    "Sort by Index\n",
    "---------------"
   ]
  },
  {
   "cell_type": "code",
   "execution_count": 91,
   "metadata": {
    "collapsed": false,
    "deletable": true,
    "editable": true
   },
   "outputs": [
    {
     "name": "stdout",
     "output_type": "stream",
     "text": [
      "  index    value\n",
      "-------  -------\n",
      "     25        6\n",
      "     24        7\n",
      "     23        8\n",
      "     22        9\n"
     ]
    }
   ],
   "source": [
    "srs = rc.Series([6, 7, 8, 9], index=[25, 24, 23, 22])\n",
    "print(srs)"
   ]
  },
  {
   "cell_type": "code",
   "execution_count": 92,
   "metadata": {
    "collapsed": false,
    "deletable": true,
    "editable": true
   },
   "outputs": [
    {
     "name": "stdout",
     "output_type": "stream",
     "text": [
      "  index    value\n",
      "-------  -------\n",
      "     22        9\n",
      "     23        8\n",
      "     24        7\n",
      "     25        6\n"
     ]
    }
   ],
   "source": [
    "# sort by index. Sorts are inplace\n",
    "srs.sort_index()\n",
    "print(srs)"
   ]
  },
  {
   "cell_type": "markdown",
   "metadata": {
    "deletable": true,
    "editable": true
   },
   "source": [
    "Math Methods\n",
    "------------"
   ]
  },
  {
   "cell_type": "code",
   "execution_count": 93,
   "metadata": {
    "collapsed": false,
    "deletable": true,
    "editable": true
   },
   "outputs": [],
   "source": [
    "srs = rc.Series([1, 2, 3])"
   ]
  },
  {
   "cell_type": "code",
   "execution_count": 94,
   "metadata": {
    "collapsed": false,
    "deletable": true,
    "editable": true
   },
   "outputs": [
    {
     "data": {
      "text/plain": [
       "[False, False, True]"
      ]
     },
     "execution_count": 94,
     "metadata": {},
     "output_type": "execute_result"
    }
   ],
   "source": [
    "# test for equality\n",
    "srs.equality(value=3)"
   ]
  },
  {
   "cell_type": "code",
   "execution_count": 95,
   "metadata": {
    "collapsed": false,
    "deletable": true,
    "editable": true
   },
   "outputs": [
    {
     "data": {
      "text/plain": [
       "[True, False]"
      ]
     },
     "execution_count": 95,
     "metadata": {},
     "output_type": "execute_result"
    }
   ],
   "source": [
    "# all math methods can operate on a subset of the index\n",
    "srs.equality(indexes=[1, 2], value=2)"
   ]
  },
  {
   "cell_type": "markdown",
   "metadata": {
    "collapsed": true,
    "deletable": true,
    "editable": true
   },
   "source": [
    "Multi-Index\n",
    "-----------\n",
    "Raccoon does not have true hierarchical mulit-index capabilities like Pandas, but attempts to mimic some of the capabilities with the use of tuples as the index. Raccoon does not provide any checking to make sure the indexes are all the same length or\n",
    "any other integrity checking."
   ]
  },
  {
   "cell_type": "code",
   "execution_count": 96,
   "metadata": {
    "collapsed": false,
    "deletable": true,
    "editable": true
   },
   "outputs": [
    {
     "name": "stdout",
     "output_type": "stream",
     "text": [
      "index          value\n",
      "-----------  -------\n",
      "('a', 1, 3)        1\n",
      "('a', 1, 4)        2\n",
      "('a', 2, 3)        3\n",
      "('b', 1, 4)        4\n",
      "('b', 2, 1)        5\n",
      "('b', 3, 3)        6\n"
     ]
    }
   ],
   "source": [
    "tuples = [('a', 1, 3), ('a', 1, 4), ('a', 2, 3), ('b', 1, 4), ('b', 2, 1), ('b', 3, 3)]\n",
    "srs = rc.Series([1, 2, 3, 4, 5, 6], index=tuples)\n",
    "print(srs)"
   ]
  },
  {
   "cell_type": "markdown",
   "metadata": {
    "deletable": true,
    "editable": true
   },
   "source": [
    "The select_index method works with tuples by allowing the * to act as a wild card for matching."
   ]
  },
  {
   "cell_type": "code",
   "execution_count": 97,
   "metadata": {
    "collapsed": false,
    "deletable": true,
    "editable": true
   },
   "outputs": [
    {
     "data": {
      "text/plain": [
       "[True, True, True, False, False, False]"
      ]
     },
     "execution_count": 97,
     "metadata": {},
     "output_type": "execute_result"
    }
   ],
   "source": [
    "compare = ('a', None, None)\n",
    "srs.select_index(compare)"
   ]
  },
  {
   "cell_type": "code",
   "execution_count": 98,
   "metadata": {
    "collapsed": false,
    "deletable": true,
    "editable": true
   },
   "outputs": [
    {
     "data": {
      "text/plain": [
       "[True, False, True, False, False, False]"
      ]
     },
     "execution_count": 98,
     "metadata": {},
     "output_type": "execute_result"
    }
   ],
   "source": [
    "compare = ('a', None, 3)\n",
    "srs.select_index(compare, 'boolean')"
   ]
  },
  {
   "cell_type": "code",
   "execution_count": 99,
   "metadata": {
    "collapsed": false,
    "deletable": true,
    "editable": true
   },
   "outputs": [
    {
     "data": {
      "text/plain": [
       "[('a', 2, 3), ('b', 2, 1)]"
      ]
     },
     "execution_count": 99,
     "metadata": {},
     "output_type": "execute_result"
    }
   ],
   "source": [
    "compare = (None, 2, None)\n",
    "srs.select_index(compare, 'value')"
   ]
  },
  {
   "cell_type": "code",
   "execution_count": 100,
   "metadata": {
    "collapsed": false,
    "deletable": true,
    "editable": true
   },
   "outputs": [
    {
     "data": {
      "text/plain": [
       "[('a', 1, 3), ('a', 2, 3), ('b', 3, 3)]"
      ]
     },
     "execution_count": 100,
     "metadata": {},
     "output_type": "execute_result"
    }
   ],
   "source": [
    "compare = (None, None, 3)\n",
    "srs.select_index(compare, 'value')"
   ]
  },
  {
   "cell_type": "code",
   "execution_count": 101,
   "metadata": {
    "collapsed": false,
    "deletable": true,
    "editable": true
   },
   "outputs": [
    {
     "data": {
      "text/plain": [
       "[True, True, True, True, True, True]"
      ]
     },
     "execution_count": 101,
     "metadata": {},
     "output_type": "execute_result"
    }
   ],
   "source": [
    "compare = (None, None, None)\n",
    "srs.select_index(compare)"
   ]
  },
  {
   "cell_type": "markdown",
   "metadata": {
    "deletable": true,
    "editable": true
   },
   "source": [
    "Reset Index\n",
    "-----------"
   ]
  },
  {
   "cell_type": "code",
   "execution_count": 102,
   "metadata": {
    "collapsed": false,
    "deletable": true,
    "editable": true
   },
   "outputs": [
    {
     "name": "stdout",
     "output_type": "stream",
     "text": [
      "  index    value\n",
      "-------  -------\n",
      "      9        1\n",
      "     10        2\n",
      "     11        3\n"
     ]
    }
   ],
   "source": [
    "srs = rc.Series([1, 2, 3], index=[9, 10, 11])\n",
    "print(srs)"
   ]
  },
  {
   "cell_type": "code",
   "execution_count": 103,
   "metadata": {
    "collapsed": false,
    "deletable": true,
    "editable": true
   },
   "outputs": [
    {
     "data": {
      "text/plain": [
       "object id: 1891392288752\n",
       "data:\n",
       "[1, 2, 3]\n",
       "index:\n",
       "[0, 1, 2]"
      ]
     },
     "execution_count": 103,
     "metadata": {},
     "output_type": "execute_result"
    }
   ],
   "source": [
    "srs.reset_index()\n",
    "srs"
   ]
  },
  {
   "cell_type": "code",
   "execution_count": 104,
   "metadata": {
    "collapsed": false,
    "deletable": true,
    "editable": true
   },
   "outputs": [
    {
     "name": "stdout",
     "output_type": "stream",
     "text": [
      "  new name    value\n",
      "----------  -------\n",
      "         9        1\n",
      "        10        2\n",
      "        11        3\n"
     ]
    }
   ],
   "source": [
    "srs = rc.Series([1, 2, 3], index=[9, 10, 11], index_name='new name')\n",
    "print(srs)"
   ]
  },
  {
   "cell_type": "code",
   "execution_count": 105,
   "metadata": {
    "collapsed": false,
    "deletable": true,
    "editable": true
   },
   "outputs": [
    {
     "name": "stdout",
     "output_type": "stream",
     "text": [
      "  index    value\n",
      "-------  -------\n",
      "      0        1\n",
      "      1        2\n",
      "      2        3\n"
     ]
    }
   ],
   "source": [
    "srs.reset_index()\n",
    "print(srs)"
   ]
  },
  {
   "cell_type": "markdown",
   "metadata": {
    "deletable": true,
    "editable": true
   },
   "source": [
    "Sorted Series\n",
    "-----------------\n",
    "Series will be set to sorted by default if no index is given at initialization. If an index is given at initialization then the parameter sorted must be set to True"
   ]
  },
  {
   "cell_type": "code",
   "execution_count": 106,
   "metadata": {
    "collapsed": false,
    "deletable": true,
    "editable": true
   },
   "outputs": [],
   "source": [
    "srs = rc.Series([3, 5, 4], index=[12, 15, 14], sort=True)"
   ]
  },
  {
   "cell_type": "markdown",
   "metadata": {
    "deletable": true,
    "editable": true
   },
   "source": [
    "When sorted=True on initialization the data will be sorted by index to start"
   ]
  },
  {
   "cell_type": "code",
   "execution_count": 107,
   "metadata": {
    "collapsed": false,
    "deletable": true,
    "editable": true
   },
   "outputs": [
    {
     "name": "stdout",
     "output_type": "stream",
     "text": [
      "  index    value\n",
      "-------  -------\n",
      "     12        3\n",
      "     14        4\n",
      "     15        5\n"
     ]
    }
   ],
   "source": [
    "srs.show()"
   ]
  },
  {
   "cell_type": "code",
   "execution_count": 108,
   "metadata": {
    "collapsed": false,
    "deletable": true,
    "editable": true
   },
   "outputs": [
    {
     "name": "stdout",
     "output_type": "stream",
     "text": [
      "  index    value\n",
      "-------  -------\n",
      "     12        3\n",
      "     14        4\n",
      "     15        5\n",
      "     16        9\n"
     ]
    }
   ],
   "source": [
    "srs[16] = 9\n",
    "print(srs)"
   ]
  },
  {
   "cell_type": "code",
   "execution_count": 109,
   "metadata": {
    "collapsed": false,
    "deletable": true,
    "editable": true
   },
   "outputs": [
    {
     "name": "stdout",
     "output_type": "stream",
     "text": [
      "  index    value\n",
      "-------  -------\n",
      "     12      3\n",
      "     13      3.5\n",
      "     14      4\n",
      "     15      5\n",
      "     16      9\n"
     ]
    }
   ],
   "source": [
    "srs.set(indexes=13, values=3.5)\n",
    "print(srs)"
   ]
  },
  {
   "cell_type": "markdown",
   "metadata": {
    "collapsed": true,
    "deletable": true,
    "editable": true
   },
   "source": [
    "List or BList\n",
    "-------------\n",
    "The underlying data structure can be either blist (default) or list"
   ]
  },
  {
   "cell_type": "code",
   "execution_count": 110,
   "metadata": {
    "collapsed": true,
    "deletable": true,
    "editable": true
   },
   "outputs": [],
   "source": [
    "# Construct with blist=True, the default\n",
    "srs_blist = rc.Series([1, 2, 3], index=[5, 6, 7], use_blist=True)"
   ]
  },
  {
   "cell_type": "code",
   "execution_count": 111,
   "metadata": {
    "collapsed": false,
    "deletable": true,
    "editable": true
   },
   "outputs": [
    {
     "data": {
      "text/plain": [
       "blist([1, 2, 3])"
      ]
     },
     "execution_count": 111,
     "metadata": {},
     "output_type": "execute_result"
    }
   ],
   "source": [
    "# see that the data structures are all blists\n",
    "srs_blist.data"
   ]
  },
  {
   "cell_type": "code",
   "execution_count": 112,
   "metadata": {
    "collapsed": false,
    "deletable": true,
    "editable": true
   },
   "outputs": [
    {
     "data": {
      "text/plain": [
       "blist([5, 6, 7])"
      ]
     },
     "execution_count": 112,
     "metadata": {},
     "output_type": "execute_result"
    }
   ],
   "source": [
    "srs_blist.index"
   ]
  },
  {
   "cell_type": "code",
   "execution_count": 113,
   "metadata": {
    "collapsed": false,
    "deletable": true,
    "editable": true
   },
   "outputs": [],
   "source": [
    "# now construct as blist = False and they are all lists\n",
    "srs_list = rc.Series([1, 2, 3], index=[5, 6, 7], use_blist=False)"
   ]
  },
  {
   "cell_type": "code",
   "execution_count": 114,
   "metadata": {
    "collapsed": false,
    "deletable": true,
    "editable": true
   },
   "outputs": [
    {
     "data": {
      "text/plain": [
       "[1, 2, 3]"
      ]
     },
     "execution_count": 114,
     "metadata": {},
     "output_type": "execute_result"
    }
   ],
   "source": [
    "srs_list.data"
   ]
  },
  {
   "cell_type": "code",
   "execution_count": 115,
   "metadata": {
    "collapsed": false,
    "deletable": true,
    "editable": true
   },
   "outputs": [
    {
     "data": {
      "text/plain": [
       "[5, 6, 7]"
      ]
     },
     "execution_count": 115,
     "metadata": {},
     "output_type": "execute_result"
    }
   ],
   "source": [
    "srs_list.index"
   ]
  }
 ],
 "metadata": {
  "kernelspec": {
   "display_name": "Python 3",
   "language": "python",
   "name": "python3"
  },
  "language_info": {
   "codemirror_mode": {
    "name": "ipython",
    "version": 3
   },
   "file_extension": ".py",
   "mimetype": "text/x-python",
   "name": "python",
   "nbconvert_exporter": "python",
   "pygments_lexer": "ipython3",
   "version": "3.6.0"
  }
 },
 "nbformat": 4,
 "nbformat_minor": 0
}
