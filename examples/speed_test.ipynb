{
 "cells": [
  {
   "cell_type": "markdown",
   "metadata": {},
   "source": [
    "Raccoon vs. Pandas speed test\n",
    "============================="
   ]
  },
  {
   "cell_type": "markdown",
   "metadata": {},
   "source": [
    "Setup pythonpath, import libraries and initialized DataFrame to store results"
   ]
  },
  {
   "cell_type": "code",
   "execution_count": 1,
   "metadata": {
    "collapsed": true
   },
   "outputs": [],
   "source": [
    "# Use this statement to import the current development version\n",
    "import sys; sys.path.insert(0, '../')"
   ]
  },
  {
   "cell_type": "code",
   "execution_count": 2,
   "metadata": {
    "collapsed": true
   },
   "outputs": [],
   "source": [
    "from copy import deepcopy"
   ]
  },
  {
   "cell_type": "code",
   "execution_count": 3,
   "metadata": {
    "collapsed": true
   },
   "outputs": [],
   "source": [
    "import raccoon as rc\n",
    "import pandas as pd"
   ]
  },
  {
   "cell_type": "code",
   "execution_count": 4,
   "metadata": {},
   "outputs": [],
   "source": [
    "results = rc.DataFrame(columns=['raccoon', 'pandas', 'ratio'], sort=False)"
   ]
  },
  {
   "cell_type": "code",
   "execution_count": 5,
   "metadata": {
    "collapsed": true
   },
   "outputs": [],
   "source": [
    "def add_results(index):\n",
    "    results[index, 'raccoon'] = res_rc.best\n",
    "    results[index, 'pandas'] = res_pd.best\n",
    "    results[index, 'ratio'] = res_rc.best / res_pd.best"
   ]
  },
  {
   "cell_type": "code",
   "execution_count": 6,
   "metadata": {},
   "outputs": [
    {
     "name": "stdout",
     "output_type": "stream",
     "text": [
      "index    raccoon    pandas    ratio\n",
      "-------  ---------  --------  -------\n",
      "version  2.1.3      0.20.2\n"
     ]
    }
   ],
   "source": [
    "results['version', 'raccoon'] = rc.__version__\n",
    "results['version', 'pandas'] = pd.__version__\n",
    "print(results)"
   ]
  },
  {
   "cell_type": "markdown",
   "metadata": {},
   "source": [
    "Initialize 10,000 empty DataFrames\n",
    "---------------------------"
   ]
  },
  {
   "cell_type": "code",
   "execution_count": 7,
   "metadata": {
    "collapsed": true
   },
   "outputs": [],
   "source": [
    "def init_rc():\n",
    "    for x in range(10000):\n",
    "        df = rc.DataFrame()\n",
    "        \n",
    "def init_pd():\n",
    "    for x in range(10000):\n",
    "        df = pd.DataFrame()"
   ]
  },
  {
   "cell_type": "code",
   "execution_count": 8,
   "metadata": {},
   "outputs": [
    {
     "name": "stdout",
     "output_type": "stream",
     "text": [
      "92.4 ms ± 6.36 ms per loop (mean ± std. dev. of 7 runs, 10 loops each)\n"
     ]
    }
   ],
   "source": [
    "res_rc = %timeit -o init_rc()"
   ]
  },
  {
   "cell_type": "code",
   "execution_count": 9,
   "metadata": {},
   "outputs": [
    {
     "name": "stdout",
     "output_type": "stream",
     "text": [
      "2.74 s ± 234 ms per loop (mean ± std. dev. of 7 runs, 1 loop each)\n"
     ]
    }
   ],
   "source": [
    "res_pd = %timeit -o init_pd()"
   ]
  },
  {
   "cell_type": "code",
   "execution_count": 10,
   "metadata": {
    "collapsed": true
   },
   "outputs": [],
   "source": [
    "add_results('initialize empty')"
   ]
  },
  {
   "cell_type": "code",
   "execution_count": 11,
   "metadata": {},
   "outputs": [
    {
     "name": "stdout",
     "output_type": "stream",
     "text": [
      "index             raccoon              pandas                 ratio\n",
      "----------------  -------------------  -----------------  ---------\n",
      "version           2.1.3                0.20.2\n",
      "initialize empty  0.08496840788127305  2.486505687206119  0.0341718\n"
     ]
    }
   ],
   "source": [
    "results.show()"
   ]
  },
  {
   "cell_type": "markdown",
   "metadata": {},
   "source": [
    "Initialize 100 row X 100 col DataFrame()\n",
    "--------"
   ]
  },
  {
   "cell_type": "code",
   "execution_count": 12,
   "metadata": {
    "collapsed": true
   },
   "outputs": [],
   "source": [
    "data = dict()\n",
    "for x in range(100):\n",
    "    data['a' + str(x)] = list(range(100))"
   ]
  },
  {
   "cell_type": "code",
   "execution_count": 13,
   "metadata": {},
   "outputs": [
    {
     "name": "stdout",
     "output_type": "stream",
     "text": [
      "87.8 µs ± 8.43 µs per loop (mean ± std. dev. of 7 runs, 10000 loops each)\n"
     ]
    }
   ],
   "source": [
    "res_rc = %timeit -o df=rc.DataFrame(data=data, sort=False)"
   ]
  },
  {
   "cell_type": "code",
   "execution_count": 14,
   "metadata": {},
   "outputs": [
    {
     "name": "stdout",
     "output_type": "stream",
     "text": [
      "8.11 ms ± 779 µs per loop (mean ± std. dev. of 7 runs, 100 loops each)\n"
     ]
    }
   ],
   "source": [
    "res_pd = %timeit -o df=pd.DataFrame(data=data)"
   ]
  },
  {
   "cell_type": "code",
   "execution_count": 15,
   "metadata": {
    "collapsed": true
   },
   "outputs": [],
   "source": [
    "add_results('initialize with matrix')"
   ]
  },
  {
   "cell_type": "code",
   "execution_count": 16,
   "metadata": {},
   "outputs": [
    {
     "name": "stdout",
     "output_type": "stream",
     "text": [
      "index                   raccoon                pandas                    ratio\n",
      "----------------------  ---------------------  --------------------  ---------\n",
      "version                 2.1.3                  0.20.2\n",
      "initialize empty        0.08496840788127305    2.486505687206119     0.0341718\n",
      "initialize with matrix  8.295801655311905e-05  0.007671599044494002  0.0108137\n"
     ]
    }
   ],
   "source": [
    "results.show()"
   ]
  },
  {
   "cell_type": "markdown",
   "metadata": {},
   "source": [
    "Add 10,000 items in 1 column to empty DataFrame\n",
    "-------------"
   ]
  },
  {
   "cell_type": "code",
   "execution_count": 17,
   "metadata": {
    "collapsed": true
   },
   "outputs": [],
   "source": [
    "def one_col_add_rc():\n",
    "    df = rc.DataFrame()\n",
    "    for x in range(10000):\n",
    "        df.set(x, 'a', x)\n",
    "        \n",
    "def one_col_add_pd():\n",
    "    df = pd.DataFrame()\n",
    "    for x in range(10000):\n",
    "        df.at[x, 'a'] = x"
   ]
  },
  {
   "cell_type": "code",
   "execution_count": 18,
   "metadata": {},
   "outputs": [
    {
     "name": "stdout",
     "output_type": "stream",
     "text": [
      "43.5 ms ± 402 µs per loop (mean ± std. dev. of 7 runs, 10 loops each)\n"
     ]
    }
   ],
   "source": [
    "res_rc = %timeit -o one_col_add_rc()"
   ]
  },
  {
   "cell_type": "code",
   "execution_count": 19,
   "metadata": {},
   "outputs": [
    {
     "name": "stdout",
     "output_type": "stream",
     "text": [
      "16.2 s ± 1.53 s per loop (mean ± std. dev. of 7 runs, 1 loop each)\n"
     ]
    }
   ],
   "source": [
    "res_pd = %timeit -o one_col_add_pd()"
   ]
  },
  {
   "cell_type": "code",
   "execution_count": 20,
   "metadata": {
    "collapsed": true
   },
   "outputs": [],
   "source": [
    "add_results('add rows one column')"
   ]
  },
  {
   "cell_type": "code",
   "execution_count": 21,
   "metadata": {},
   "outputs": [
    {
     "name": "stdout",
     "output_type": "stream",
     "text": [
      "index                   raccoon                pandas                     ratio\n",
      "----------------------  ---------------------  --------------------  ----------\n",
      "version                 2.1.3                  0.20.2\n",
      "initialize empty        0.08496840788127305    2.486505687206119     0.0341718\n",
      "initialize with matrix  8.295801655311905e-05  0.007671599044494002  0.0108137\n",
      "add rows one column     0.04288183311489533    14.87375424325954     0.00288305\n"
     ]
    }
   ],
   "source": [
    "print(results)"
   ]
  },
  {
   "cell_type": "markdown",
   "metadata": {},
   "source": [
    "Add 100 rows of 100 columns to empty DataFrame\n",
    "----------"
   ]
  },
  {
   "cell_type": "code",
   "execution_count": 22,
   "metadata": {
    "collapsed": true
   },
   "outputs": [],
   "source": [
    "new_row = {('a' + str(x)): x for x in range(100)}\n",
    "columns = ['a' + str(x) for x in range(100)]\n",
    "\n",
    "def matrix_add_rc():\n",
    "    df = rc.DataFrame(columns=columns)\n",
    "    for x in range(100):\n",
    "        df.set(indexes=x, values=new_row)\n",
    "\n",
    "def matrix_add_pd():\n",
    "    df = pd.DataFrame(columns=columns)\n",
    "    for x in range(100):\n",
    "        df.loc[x] = new_row"
   ]
  },
  {
   "cell_type": "code",
   "execution_count": 23,
   "metadata": {},
   "outputs": [
    {
     "name": "stdout",
     "output_type": "stream",
     "text": [
      "9.32 ms ± 808 µs per loop (mean ± std. dev. of 7 runs, 100 loops each)\n"
     ]
    }
   ],
   "source": [
    "res_rc = %timeit -o matrix_add_rc()"
   ]
  },
  {
   "cell_type": "code",
   "execution_count": 24,
   "metadata": {},
   "outputs": [
    {
     "name": "stdout",
     "output_type": "stream",
     "text": [
      "184 ms ± 3.55 ms per loop (mean ± std. dev. of 7 runs, 1 loop each)\n"
     ]
    }
   ],
   "source": [
    "res_pd = %timeit -o matrix_add_pd()"
   ]
  },
  {
   "cell_type": "code",
   "execution_count": 25,
   "metadata": {
    "collapsed": true
   },
   "outputs": [],
   "source": [
    "add_results('add matrix')"
   ]
  },
  {
   "cell_type": "code",
   "execution_count": 26,
   "metadata": {},
   "outputs": [
    {
     "name": "stdout",
     "output_type": "stream",
     "text": [
      "index                   raccoon                pandas                     ratio\n",
      "----------------------  ---------------------  --------------------  ----------\n",
      "version                 2.1.3                  0.20.2\n",
      "initialize empty        0.08496840788127305    2.486505687206119     0.0341718\n",
      "initialize with matrix  8.295801655311905e-05  0.007671599044494002  0.0108137\n",
      "add rows one column     0.04288183311489533    14.87375424325954     0.00288305\n",
      "add matrix              0.008299982997955908   0.1785839394495099    0.0464766\n"
     ]
    }
   ],
   "source": [
    "print(results)"
   ]
  },
  {
   "cell_type": "markdown",
   "metadata": {},
   "source": [
    "Append 10x10 DataFrame 1000 times\n",
    "------"
   ]
  },
  {
   "cell_type": "code",
   "execution_count": 27,
   "metadata": {
    "collapsed": true
   },
   "outputs": [],
   "source": [
    "def append_rc():\n",
    "    grid = {'a' + str(x): [0, 1, 2, 3, 4, 5, 6, 7, 8, 9] for x in range(10)}\n",
    "    df = rc.DataFrame(data=deepcopy(grid), columns=list(grid.keys()))\n",
    "    for x in range(100):\n",
    "        index = [(y + 1) + (x + 1) * 10 for y in range(10)]\n",
    "        new_grid = deepcopy(grid)\n",
    "        new_df = rc.DataFrame(data=new_grid, columns=list(new_grid.keys()), index=index)\n",
    "        df.append(new_df)\n",
    "\n",
    "def append_pd():\n",
    "    grid = {'a' + str(x): [0, 1, 2, 3, 4, 5, 6, 7, 8, 9] for x in range(10)}\n",
    "    df = pd.DataFrame(data=grid, columns=list(grid.keys()))\n",
    "    for x in range(100):\n",
    "        index = [(y + 1) + (x + 1) * 10 for y in range(10)]\n",
    "        new_grid = deepcopy(grid)\n",
    "        new_df = pd.DataFrame(data=new_grid, columns=list(new_grid.keys()), index=index)\n",
    "        df = df.append(new_df)"
   ]
  },
  {
   "cell_type": "code",
   "execution_count": 28,
   "metadata": {},
   "outputs": [
    {
     "name": "stdout",
     "output_type": "stream",
     "text": [
      "62.2 ms ± 7.32 ms per loop (mean ± std. dev. of 7 runs, 10 loops each)\n"
     ]
    }
   ],
   "source": [
    "res_rc = %timeit -o append_rc()"
   ]
  },
  {
   "cell_type": "code",
   "execution_count": 29,
   "metadata": {},
   "outputs": [
    {
     "name": "stdout",
     "output_type": "stream",
     "text": [
      "164 ms ± 5.16 ms per loop (mean ± std. dev. of 7 runs, 1 loop each)\n"
     ]
    }
   ],
   "source": [
    "res_pd = %timeit -o append_pd()"
   ]
  },
  {
   "cell_type": "code",
   "execution_count": 30,
   "metadata": {
    "collapsed": true
   },
   "outputs": [],
   "source": [
    "add_results('append')"
   ]
  },
  {
   "cell_type": "code",
   "execution_count": 31,
   "metadata": {},
   "outputs": [
    {
     "name": "stdout",
     "output_type": "stream",
     "text": [
      "index                   raccoon                pandas                     ratio\n",
      "----------------------  ---------------------  --------------------  ----------\n",
      "version                 2.1.3                  0.20.2\n",
      "initialize empty        0.08496840788127305    2.486505687206119     0.0341718\n",
      "initialize with matrix  8.295801655311905e-05  0.007671599044494002  0.0108137\n",
      "add rows one column     0.04288183311489533    14.87375424325954     0.00288305\n",
      "add matrix              0.008299982997955908   0.1785839394495099    0.0464766\n",
      "append                  0.05763429718412851    0.15777540076405216   0.365293\n"
     ]
    }
   ],
   "source": [
    "print(results)"
   ]
  },
  {
   "cell_type": "markdown",
   "metadata": {
    "collapsed": true
   },
   "source": [
    "Get\n",
    "---"
   ]
  },
  {
   "cell_type": "code",
   "execution_count": 32,
   "metadata": {
    "collapsed": true
   },
   "outputs": [],
   "source": [
    "# First create a 1000 row X 100 col matrix for the test. Index is [0...999]\n",
    "\n",
    "col = [x for x in range(1000)]\n",
    "grid = {'a' + str(x): col[:] for x in range(100)}\n",
    "\n",
    "df_rc = rc.DataFrame(data=grid, columns=sorted(grid.keys()))\n",
    "df_pd = pd.DataFrame(data=grid, columns=sorted(grid.keys()))"
   ]
  },
  {
   "cell_type": "code",
   "execution_count": 33,
   "metadata": {
    "collapsed": true
   },
   "outputs": [],
   "source": [
    "# get cell\n",
    "\n",
    "def rc_get_cell():\n",
    "    for c in df_rc.columns:\n",
    "        for r in df_rc.index:\n",
    "            x = df_rc.get(r, c)\n",
    "            \n",
    "def pd_get_cell():\n",
    "    for c in df_pd.columns:\n",
    "        for r in df_pd.index:\n",
    "            x = df_pd.at[r, c]"
   ]
  },
  {
   "cell_type": "code",
   "execution_count": 34,
   "metadata": {},
   "outputs": [
    {
     "name": "stdout",
     "output_type": "stream",
     "text": [
      "528 ms ± 64.3 ms per loop (mean ± std. dev. of 7 runs, 1 loop each)\n"
     ]
    }
   ],
   "source": [
    "res_rc = %timeit -o rc_get_cell()"
   ]
  },
  {
   "cell_type": "code",
   "execution_count": 35,
   "metadata": {},
   "outputs": [
    {
     "name": "stdout",
     "output_type": "stream",
     "text": [
      "783 ms ± 74.1 ms per loop (mean ± std. dev. of 7 runs, 1 loop each)\n"
     ]
    }
   ],
   "source": [
    "res_pd = %timeit -o pd_get_cell()"
   ]
  },
  {
   "cell_type": "code",
   "execution_count": 36,
   "metadata": {
    "collapsed": true
   },
   "outputs": [],
   "source": [
    "add_results('get cell')"
   ]
  },
  {
   "cell_type": "code",
   "execution_count": 37,
   "metadata": {},
   "outputs": [
    {
     "name": "stdout",
     "output_type": "stream",
     "text": [
      "index                   raccoon                pandas                     ratio\n",
      "----------------------  ---------------------  --------------------  ----------\n",
      "version                 2.1.3                  0.20.2\n",
      "initialize empty        0.08496840788127305    2.486505687206119     0.0341718\n",
      "initialize with matrix  8.295801655311905e-05  0.007671599044494002  0.0108137\n",
      "add rows one column     0.04288183311489533    14.87375424325954     0.00288305\n",
      "add matrix              0.008299982997955908   0.1785839394495099    0.0464766\n",
      "append                  0.05763429718412851    0.15777540076405216   0.365293\n",
      "get cell                0.4936867081052583     0.7425185427150893    0.664881\n"
     ]
    }
   ],
   "source": [
    "print(results)"
   ]
  },
  {
   "cell_type": "code",
   "execution_count": 38,
   "metadata": {
    "collapsed": true
   },
   "outputs": [],
   "source": [
    "# get column all index\n",
    "\n",
    "def get_column_all_rc():\n",
    "    for c in df_rc.columns:\n",
    "        x = df_rc.get(columns=c)\n",
    "        \n",
    "def get_column_all_pd():\n",
    "    for c in df_pd.columns:\n",
    "        x = df_pd[c]"
   ]
  },
  {
   "cell_type": "code",
   "execution_count": 39,
   "metadata": {},
   "outputs": [
    {
     "name": "stdout",
     "output_type": "stream",
     "text": [
      "36.6 ms ± 5.38 ms per loop (mean ± std. dev. of 7 runs, 10 loops each)\n"
     ]
    }
   ],
   "source": [
    "res_rc = %timeit -o get_column_all_rc()"
   ]
  },
  {
   "cell_type": "code",
   "execution_count": 40,
   "metadata": {},
   "outputs": [
    {
     "name": "stdout",
     "output_type": "stream",
     "text": [
      "313 µs ± 2.39 µs per loop (mean ± std. dev. of 7 runs, 1000 loops each)\n"
     ]
    }
   ],
   "source": [
    "res_pd = %timeit -o get_column_all_pd()"
   ]
  },
  {
   "cell_type": "code",
   "execution_count": 41,
   "metadata": {
    "collapsed": true
   },
   "outputs": [],
   "source": [
    "add_results('get column all index')"
   ]
  },
  {
   "cell_type": "code",
   "execution_count": 42,
   "metadata": {},
   "outputs": [
    {
     "name": "stdout",
     "output_type": "stream",
     "text": [
      "index                   raccoon                pandas                         ratio\n",
      "----------------------  ---------------------  ----------------------  ------------\n",
      "version                 2.1.3                  0.20.2\n",
      "initialize empty        0.08496840788127305    2.486505687206119         0.0341718\n",
      "initialize with matrix  8.295801655311905e-05  0.007671599044494002      0.0108137\n",
      "add rows one column     0.04288183311489533    14.87375424325954         0.00288305\n",
      "add matrix              0.008299982997955908   0.1785839394495099        0.0464766\n",
      "append                  0.05763429718412851    0.15777540076405216       0.365293\n",
      "get cell                0.4936867081052583     0.7425185427150893        0.664881\n",
      "get column all index    0.032696135984224384   0.00030877898993577447  105.888\n"
     ]
    }
   ],
   "source": [
    "print(results)"
   ]
  },
  {
   "cell_type": "code",
   "execution_count": 43,
   "metadata": {
    "collapsed": true
   },
   "outputs": [],
   "source": [
    "# get subset of the index of the column\n",
    "\n",
    "def get_column_subset_rc():\n",
    "    for c in df_rc.columns:\n",
    "        for r in range(100):\n",
    "            rows = list(range(r*10, r*10 + 9))\n",
    "            x = df_rc.get(indexes=rows, columns=c)\n",
    "        \n",
    "def get_column_subset_pd():\n",
    "    for c in df_pd.columns:\n",
    "        for r in range(100):\n",
    "            rows = list(range(r*10, r*10 + 9))\n",
    "            x = df_pd.loc[rows, c]"
   ]
  },
  {
   "cell_type": "code",
   "execution_count": 44,
   "metadata": {},
   "outputs": [
    {
     "name": "stdout",
     "output_type": "stream",
     "text": [
      "465 ms ± 51.7 ms per loop (mean ± std. dev. of 7 runs, 1 loop each)\n"
     ]
    }
   ],
   "source": [
    "res_rc = %timeit -o get_column_subset_rc()"
   ]
  },
  {
   "cell_type": "code",
   "execution_count": 45,
   "metadata": {},
   "outputs": [
    {
     "name": "stdout",
     "output_type": "stream",
     "text": [
      "6 s ± 425 ms per loop (mean ± std. dev. of 7 runs, 1 loop each)\n"
     ]
    }
   ],
   "source": [
    "res_pd = %timeit -o get_column_subset_pd()"
   ]
  },
  {
   "cell_type": "code",
   "execution_count": 46,
   "metadata": {
    "collapsed": true
   },
   "outputs": [],
   "source": [
    "add_results('get column subset index')"
   ]
  },
  {
   "cell_type": "code",
   "execution_count": 47,
   "metadata": {},
   "outputs": [
    {
     "name": "stdout",
     "output_type": "stream",
     "text": [
      "index                    raccoon                pandas                         ratio\n",
      "-----------------------  ---------------------  ----------------------  ------------\n",
      "version                  2.1.3                  0.20.2\n",
      "initialize empty         0.08496840788127305    2.486505687206119         0.0341718\n",
      "initialize with matrix   8.295801655311905e-05  0.007671599044494002      0.0108137\n",
      "add rows one column      0.04288183311489533    14.87375424325954         0.00288305\n",
      "add matrix               0.008299982997955908   0.1785839394495099        0.0464766\n",
      "append                   0.05763429718412851    0.15777540076405216       0.365293\n",
      "get cell                 0.4936867081052583     0.7425185427150893        0.664881\n",
      "get column all index     0.032696135984224384   0.00030877898993577447  105.888\n",
      "get column subset index  0.42664153398601457    5.714989510943553         0.0746531\n"
     ]
    }
   ],
   "source": [
    "print(results)"
   ]
  },
  {
   "cell_type": "code",
   "execution_count": 48,
   "metadata": {
    "collapsed": true
   },
   "outputs": [],
   "source": [
    "# get index all columns\n",
    "\n",
    "def get_index_all_rc():\n",
    "    for i in df_rc.index:\n",
    "        x = df_rc.get(indexes=i)\n",
    "        \n",
    "def get_index_all_pd():\n",
    "    for i in df_pd.index:\n",
    "        x = df_pd.loc[i]"
   ]
  },
  {
   "cell_type": "code",
   "execution_count": 49,
   "metadata": {},
   "outputs": [
    {
     "name": "stdout",
     "output_type": "stream",
     "text": [
      "815 ms ± 73.2 ms per loop (mean ± std. dev. of 7 runs, 1 loop each)\n"
     ]
    }
   ],
   "source": [
    "res_rc = %timeit -o get_index_all_rc()"
   ]
  },
  {
   "cell_type": "code",
   "execution_count": 50,
   "metadata": {},
   "outputs": [
    {
     "name": "stdout",
     "output_type": "stream",
     "text": [
      "118 ms ± 10.4 ms per loop (mean ± std. dev. of 7 runs, 10 loops each)\n"
     ]
    }
   ],
   "source": [
    "res_pd = %timeit -o get_index_all_pd()"
   ]
  },
  {
   "cell_type": "code",
   "execution_count": 51,
   "metadata": {
    "collapsed": true
   },
   "outputs": [],
   "source": [
    "add_results('get index all columns')"
   ]
  },
  {
   "cell_type": "code",
   "execution_count": 52,
   "metadata": {},
   "outputs": [
    {
     "name": "stdout",
     "output_type": "stream",
     "text": [
      "index                    raccoon                pandas                         ratio\n",
      "-----------------------  ---------------------  ----------------------  ------------\n",
      "version                  2.1.3                  0.20.2\n",
      "initialize empty         0.08496840788127305    2.486505687206119         0.0341718\n",
      "initialize with matrix   8.295801655311905e-05  0.007671599044494002      0.0108137\n",
      "add rows one column      0.04288183311489533    14.87375424325954         0.00288305\n",
      "add matrix               0.008299982997955908   0.1785839394495099        0.0464766\n",
      "append                   0.05763429718412851    0.15777540076405216       0.365293\n",
      "get cell                 0.4936867081052583     0.7425185427150893        0.664881\n",
      "get column all index     0.032696135984224384   0.00030877898993577447  105.888\n",
      "get column subset index  0.42664153398601457    5.714989510943553         0.0746531\n",
      "get index all columns    0.7787561018819247     0.10775676991503928       7.22698\n"
     ]
    }
   ],
   "source": [
    "print(results)"
   ]
  },
  {
   "cell_type": "markdown",
   "metadata": {
    "collapsed": true
   },
   "source": [
    "Set\n",
    "---"
   ]
  },
  {
   "cell_type": "code",
   "execution_count": 53,
   "metadata": {
    "collapsed": true
   },
   "outputs": [],
   "source": [
    "# First create a 1000 row X 100 col matrix for the test. Index is [0...999]\n",
    "\n",
    "col = [x for x in range(1000)]\n",
    "grid = {'a' + str(x): col[:] for x in range(100)}\n",
    "\n",
    "df_rc = rc.DataFrame(data=grid, columns=sorted(grid.keys()))\n",
    "df_pd = pd.DataFrame(data=grid, columns=sorted(grid.keys()))"
   ]
  },
  {
   "cell_type": "code",
   "execution_count": 54,
   "metadata": {
    "collapsed": true
   },
   "outputs": [],
   "source": [
    "# set cell\n",
    "\n",
    "def rc_set_cell():\n",
    "    for c in df_rc.columns:\n",
    "        for r in df_rc.index:\n",
    "            df_rc.set(r, c, 99)\n",
    "            \n",
    "def pd_set_cell():\n",
    "    for c in df_pd.columns:\n",
    "        for r in df_pd.index:\n",
    "            df_pd.at[r, c] = 99"
   ]
  },
  {
   "cell_type": "code",
   "execution_count": 55,
   "metadata": {},
   "outputs": [
    {
     "name": "stdout",
     "output_type": "stream",
     "text": [
      "436 ms ± 59.3 ms per loop (mean ± std. dev. of 7 runs, 1 loop each)\n"
     ]
    }
   ],
   "source": [
    "res_rc = %timeit -o rc_set_cell()"
   ]
  },
  {
   "cell_type": "code",
   "execution_count": 56,
   "metadata": {},
   "outputs": [
    {
     "name": "stdout",
     "output_type": "stream",
     "text": [
      "1 s ± 78.6 ms per loop (mean ± std. dev. of 7 runs, 1 loop each)\n"
     ]
    }
   ],
   "source": [
    "res_pd = %timeit -o pd_set_cell()"
   ]
  },
  {
   "cell_type": "code",
   "execution_count": 57,
   "metadata": {
    "collapsed": true
   },
   "outputs": [],
   "source": [
    "add_results('set cell')"
   ]
  },
  {
   "cell_type": "code",
   "execution_count": 58,
   "metadata": {},
   "outputs": [
    {
     "name": "stdout",
     "output_type": "stream",
     "text": [
      "index                    raccoon                pandas                         ratio\n",
      "-----------------------  ---------------------  ----------------------  ------------\n",
      "version                  2.1.3                  0.20.2\n",
      "initialize empty         0.08496840788127305    2.486505687206119         0.0341718\n",
      "initialize with matrix   8.295801655311905e-05  0.007671599044494002      0.0108137\n",
      "add rows one column      0.04288183311489533    14.87375424325954         0.00288305\n",
      "add matrix               0.008299982997955908   0.1785839394495099        0.0464766\n",
      "append                   0.05763429718412851    0.15777540076405216       0.365293\n",
      "get cell                 0.4936867081052583     0.7425185427150893        0.664881\n",
      "get column all index     0.032696135984224384   0.00030877898993577447  105.888\n",
      "get column subset index  0.42664153398601457    5.714989510943553         0.0746531\n",
      "get index all columns    0.7787561018819247     0.10775676991503928       7.22698\n",
      "set cell                 0.3987260515496587     0.9623946910782024        0.414306\n"
     ]
    }
   ],
   "source": [
    "print(results)"
   ]
  },
  {
   "cell_type": "code",
   "execution_count": 59,
   "metadata": {
    "collapsed": true
   },
   "outputs": [],
   "source": [
    "# set column all index\n",
    "\n",
    "def set_column_all_rc():\n",
    "    for c in df_rc.columns:\n",
    "        x = df_rc.set(columns=c, values=99)\n",
    "        \n",
    "def set_column_all_pd():\n",
    "    for c in df_pd.columns:\n",
    "        x = df_pd[c] = 99"
   ]
  },
  {
   "cell_type": "code",
   "execution_count": 60,
   "metadata": {},
   "outputs": [
    {
     "name": "stdout",
     "output_type": "stream",
     "text": [
      "4.19 ms ± 748 µs per loop (mean ± std. dev. of 7 runs, 100 loops each)\n"
     ]
    }
   ],
   "source": [
    "res_rc = %timeit -o set_column_all_rc()"
   ]
  },
  {
   "cell_type": "code",
   "execution_count": 61,
   "metadata": {},
   "outputs": [
    {
     "name": "stdout",
     "output_type": "stream",
     "text": [
      "12.7 ms ± 1.02 ms per loop (mean ± std. dev. of 7 runs, 100 loops each)\n"
     ]
    }
   ],
   "source": [
    "res_pd = %timeit -o set_column_all_pd()"
   ]
  },
  {
   "cell_type": "code",
   "execution_count": 62,
   "metadata": {
    "collapsed": true
   },
   "outputs": [],
   "source": [
    "add_results('set column all index')"
   ]
  },
  {
   "cell_type": "code",
   "execution_count": 63,
   "metadata": {},
   "outputs": [
    {
     "name": "stdout",
     "output_type": "stream",
     "text": [
      "index                    raccoon                pandas                         ratio\n",
      "-----------------------  ---------------------  ----------------------  ------------\n",
      "version                  2.1.3                  0.20.2\n",
      "initialize empty         0.08496840788127305    2.486505687206119         0.0341718\n",
      "initialize with matrix   8.295801655311905e-05  0.007671599044494002      0.0108137\n",
      "add rows one column      0.04288183311489533    14.87375424325954         0.00288305\n",
      "add matrix               0.008299982997955908   0.1785839394495099        0.0464766\n",
      "append                   0.05763429718412851    0.15777540076405216       0.365293\n",
      "get cell                 0.4936867081052583     0.7425185427150893        0.664881\n",
      "get column all index     0.032696135984224384   0.00030877898993577447  105.888\n",
      "get column subset index  0.42664153398601457    5.714989510943553         0.0746531\n",
      "get index all columns    0.7787561018819247     0.10775676991503928       7.22698\n",
      "set cell                 0.3987260515496587     0.9623946910782024        0.414306\n",
      "set column all index     0.00376809479375936    0.011686656340490344      0.322427\n"
     ]
    }
   ],
   "source": [
    "print(results)"
   ]
  },
  {
   "cell_type": "code",
   "execution_count": 64,
   "metadata": {
    "collapsed": true
   },
   "outputs": [],
   "source": [
    "# set subset of the index of the column\n",
    "\n",
    "def set_column_subset_rc():\n",
    "    for c in df_rc.columns:\n",
    "        for r in range(100):\n",
    "            rows = list(range(r*10, r*10 + 10))\n",
    "            x = df_rc.set(indexes=rows, columns=c, values=list(range(10)))\n",
    "        \n",
    "def set_column_subset_pd():\n",
    "    for c in df_pd.columns:\n",
    "        for r in range(100):\n",
    "            rows = list(range(r*10, r*10 + 10))\n",
    "            x = df_pd.loc[rows, c] = list(range(10))"
   ]
  },
  {
   "cell_type": "code",
   "execution_count": 65,
   "metadata": {},
   "outputs": [
    {
     "name": "stdout",
     "output_type": "stream",
     "text": [
      "269 ms ± 3.72 ms per loop (mean ± std. dev. of 7 runs, 1 loop each)\n"
     ]
    }
   ],
   "source": [
    "res_rc = %timeit -o set_column_subset_rc()"
   ]
  },
  {
   "cell_type": "code",
   "execution_count": 66,
   "metadata": {},
   "outputs": [
    {
     "name": "stdout",
     "output_type": "stream",
     "text": [
      "22.7 s ± 244 ms per loop (mean ± std. dev. of 7 runs, 1 loop each)\n"
     ]
    }
   ],
   "source": [
    "res_pd = %timeit -o set_column_subset_pd()"
   ]
  },
  {
   "cell_type": "code",
   "execution_count": 67,
   "metadata": {
    "collapsed": true
   },
   "outputs": [],
   "source": [
    "add_results('set column subset index')"
   ]
  },
  {
   "cell_type": "code",
   "execution_count": 68,
   "metadata": {},
   "outputs": [
    {
     "name": "stdout",
     "output_type": "stream",
     "text": [
      "index                    raccoon                pandas                         ratio\n",
      "-----------------------  ---------------------  ----------------------  ------------\n",
      "version                  2.1.3                  0.20.2\n",
      "initialize empty         0.08496840788127305    2.486505687206119         0.0341718\n",
      "initialize with matrix   8.295801655311905e-05  0.007671599044494002      0.0108137\n",
      "add rows one column      0.04288183311489533    14.87375424325954         0.00288305\n",
      "add matrix               0.008299982997955908   0.1785839394495099        0.0464766\n",
      "append                   0.05763429718412851    0.15777540076405216       0.365293\n",
      "get cell                 0.4936867081052583     0.7425185427150893        0.664881\n",
      "get column all index     0.032696135984224384   0.00030877898993577447  105.888\n",
      "get column subset index  0.42664153398601457    5.714989510943553         0.0746531\n",
      "get index all columns    0.7787561018819247     0.10775676991503928       7.22698\n",
      "set cell                 0.3987260515496587     0.9623946910782024        0.414306\n",
      "set column all index     0.00376809479375936    0.011686656340490344      0.322427\n",
      "set column subset index  0.26396186901109786    22.454482046778423        0.0117554\n"
     ]
    }
   ],
   "source": [
    "print(results)"
   ]
  },
  {
   "cell_type": "code",
   "execution_count": 69,
   "metadata": {
    "collapsed": true
   },
   "outputs": [],
   "source": [
    "row = {x:x for x in grid.keys()}"
   ]
  },
  {
   "cell_type": "code",
   "execution_count": 70,
   "metadata": {
    "collapsed": true
   },
   "outputs": [],
   "source": [
    "# set index all columns\n",
    "\n",
    "def set_index_all_rc():\n",
    "    for i in df_rc.index:\n",
    "        x = df_rc.set(indexes=i, values=row)\n",
    "        \n",
    "def set_index_all_pd():\n",
    "    for i in df_pd.index:\n",
    "        x = df_pd.loc[i] = row"
   ]
  },
  {
   "cell_type": "code",
   "execution_count": 71,
   "metadata": {},
   "outputs": [
    {
     "name": "stdout",
     "output_type": "stream",
     "text": [
      "56.3 ms ± 8.04 ms per loop (mean ± std. dev. of 7 runs, 10 loops each)\n"
     ]
    }
   ],
   "source": [
    "res_rc = %timeit -o set_index_all_rc()"
   ]
  },
  {
   "cell_type": "code",
   "execution_count": 72,
   "metadata": {},
   "outputs": [
    {
     "name": "stdout",
     "output_type": "stream",
     "text": [
      "500 ms ± 80.2 ms per loop (mean ± std. dev. of 7 runs, 1 loop each)\n"
     ]
    }
   ],
   "source": [
    "res_pd = %timeit -o set_index_all_pd()"
   ]
  },
  {
   "cell_type": "code",
   "execution_count": 73,
   "metadata": {
    "collapsed": true
   },
   "outputs": [],
   "source": [
    "add_results('set index all columns')"
   ]
  },
  {
   "cell_type": "code",
   "execution_count": 74,
   "metadata": {},
   "outputs": [
    {
     "name": "stdout",
     "output_type": "stream",
     "text": [
      "index                    raccoon                pandas                         ratio\n",
      "-----------------------  ---------------------  ----------------------  ------------\n",
      "version                  2.1.3                  0.20.2\n",
      "initialize empty         0.08496840788127305    2.486505687206119         0.0341718\n",
      "initialize with matrix   8.295801655311905e-05  0.007671599044494002      0.0108137\n",
      "add rows one column      0.04288183311489533    14.87375424325954         0.00288305\n",
      "add matrix               0.008299982997955908   0.1785839394495099        0.0464766\n",
      "append                   0.05763429718412851    0.15777540076405216       0.365293\n",
      "get cell                 0.4936867081052583     0.7425185427150893        0.664881\n",
      "get column all index     0.032696135984224384   0.00030877898993577447  105.888\n",
      "get column subset index  0.42664153398601457    5.714989510943553         0.0746531\n",
      "get index all columns    0.7787561018819247     0.10775676991503928       7.22698\n",
      "set cell                 0.3987260515496587     0.9623946910782024        0.414306\n",
      "set column all index     0.00376809479375936    0.011686656340490344      0.322427\n",
      "set column subset index  0.26396186901109786    22.454482046778423        0.0117554\n",
      "set index all columns    0.05272717698682072    0.4621994576302768        0.114079\n"
     ]
    }
   ],
   "source": [
    "print(results)"
   ]
  },
  {
   "cell_type": "markdown",
   "metadata": {},
   "source": [
    "Sort\n",
    "-----"
   ]
  },
  {
   "cell_type": "code",
   "execution_count": 75,
   "metadata": {
    "collapsed": true
   },
   "outputs": [],
   "source": [
    "# make a dataframe 1000x100 with index in reverse order\n",
    "\n",
    "rev = list(reversed(range(1000)))\n",
    "\n",
    "df_rc = rc.DataFrame(data=grid, index=rev)\n",
    "df_pd = pd.DataFrame(grid, index=rev)"
   ]
  },
  {
   "cell_type": "code",
   "execution_count": 76,
   "metadata": {},
   "outputs": [
    {
     "name": "stdout",
     "output_type": "stream",
     "text": [
      "12.4 ms ± 807 µs per loop (mean ± std. dev. of 7 runs, 100 loops each)\n"
     ]
    }
   ],
   "source": [
    "res_rc = %timeit -o df_rc.sort_index() "
   ]
  },
  {
   "cell_type": "code",
   "execution_count": 77,
   "metadata": {},
   "outputs": [
    {
     "name": "stdout",
     "output_type": "stream",
     "text": [
      "539 µs ± 62.9 µs per loop (mean ± std. dev. of 7 runs, 1000 loops each)\n"
     ]
    }
   ],
   "source": [
    "res_pd = %timeit -o df_pd.sort_index()"
   ]
  },
  {
   "cell_type": "code",
   "execution_count": 78,
   "metadata": {
    "collapsed": true
   },
   "outputs": [],
   "source": [
    "add_results('sort index')"
   ]
  },
  {
   "cell_type": "code",
   "execution_count": 79,
   "metadata": {},
   "outputs": [
    {
     "name": "stdout",
     "output_type": "stream",
     "text": [
      "index                    raccoon                pandas                         ratio\n",
      "-----------------------  ---------------------  ----------------------  ------------\n",
      "version                  2.1.3                  0.20.2\n",
      "initialize empty         0.08496840788127305    2.486505687206119         0.0341718\n",
      "initialize with matrix   8.295801655311905e-05  0.007671599044494002      0.0108137\n",
      "add rows one column      0.04288183311489533    14.87375424325954         0.00288305\n",
      "add matrix               0.008299982997955908   0.1785839394495099        0.0464766\n",
      "append                   0.05763429718412851    0.15777540076405216       0.365293\n",
      "get cell                 0.4936867081052583     0.7425185427150893        0.664881\n",
      "get column all index     0.032696135984224384   0.00030877898993577447  105.888\n",
      "get column subset index  0.42664153398601457    5.714989510943553         0.0746531\n",
      "get index all columns    0.7787561018819247     0.10775676991503928       7.22698\n",
      "set cell                 0.3987260515496587     0.9623946910782024        0.414306\n",
      "set column all index     0.00376809479375936    0.011686656340490344      0.322427\n",
      "set column subset index  0.26396186901109786    22.454482046778423        0.0117554\n",
      "set index all columns    0.05272717698682072    0.4621994576302768        0.114079\n",
      "sort index               0.011655945561328736   0.0004977774624292124    23.416\n"
     ]
    }
   ],
   "source": [
    "print(results)"
   ]
  },
  {
   "cell_type": "markdown",
   "metadata": {},
   "source": [
    "Iterators\n",
    "---------"
   ]
  },
  {
   "cell_type": "code",
   "execution_count": 80,
   "metadata": {
    "collapsed": true
   },
   "outputs": [],
   "source": [
    "# First create a 1000 row X 100 col matrix for the test. Index is [0...999]\n",
    "\n",
    "col = [x for x in range(1000)]\n",
    "grid = {'a' + str(x): col[:] for x in range(100)}\n",
    "\n",
    "df_rc = rc.DataFrame(data=grid, columns=sorted(grid.keys()))\n",
    "df_pd = pd.DataFrame(data=grid, columns=sorted(grid.keys()))"
   ]
  },
  {
   "cell_type": "code",
   "execution_count": 81,
   "metadata": {
    "collapsed": true
   },
   "outputs": [],
   "source": [
    "# iterate over the rows\n",
    "\n",
    "def iter_rc():\n",
    "    for row in df_rc.iterrows():\n",
    "        x = row\n",
    "        \n",
    "def iter_pd():\n",
    "    for row in df_pd.itertuples():\n",
    "        x = row"
   ]
  },
  {
   "cell_type": "code",
   "execution_count": 82,
   "metadata": {},
   "outputs": [
    {
     "name": "stdout",
     "output_type": "stream",
     "text": [
      "24.1 ms ± 532 µs per loop (mean ± std. dev. of 7 runs, 10 loops each)\n"
     ]
    }
   ],
   "source": [
    "res_rc = %timeit -o iter_rc() "
   ]
  },
  {
   "cell_type": "code",
   "execution_count": 83,
   "metadata": {},
   "outputs": [
    {
     "name": "stdout",
     "output_type": "stream",
     "text": [
      "20.3 ms ± 599 µs per loop (mean ± std. dev. of 7 runs, 10 loops each)\n"
     ]
    }
   ],
   "source": [
    "res_pd = %timeit -o iter_pd()"
   ]
  },
  {
   "cell_type": "code",
   "execution_count": 84,
   "metadata": {
    "collapsed": true
   },
   "outputs": [],
   "source": [
    "add_results('iterate rows')"
   ]
  },
  {
   "cell_type": "code",
   "execution_count": 85,
   "metadata": {},
   "outputs": [
    {
     "name": "stdout",
     "output_type": "stream",
     "text": [
      "index                    raccoon                pandas                         ratio\n",
      "-----------------------  ---------------------  ----------------------  ------------\n",
      "version                  2.1.3                  0.20.2\n",
      "initialize empty         0.08496840788127305    2.486505687206119         0.0341718\n",
      "initialize with matrix   8.295801655311905e-05  0.007671599044494002      0.0108137\n",
      "add rows one column      0.04288183311489533    14.87375424325954         0.00288305\n",
      "add matrix               0.008299982997955908   0.1785839394495099        0.0464766\n",
      "append                   0.05763429718412851    0.15777540076405216       0.365293\n",
      "get cell                 0.4936867081052583     0.7425185427150893        0.664881\n",
      "get column all index     0.032696135984224384   0.00030877898993577447  105.888\n",
      "get column subset index  0.42664153398601457    5.714989510943553         0.0746531\n",
      "get index all columns    0.7787561018819247     0.10775676991503928       7.22698\n",
      "set cell                 0.3987260515496587     0.9623946910782024        0.414306\n",
      "set column all index     0.00376809479375936    0.011686656340490344      0.322427\n",
      "set column subset index  0.26396186901109786    22.454482046778423        0.0117554\n",
      "set index all columns    0.05272717698682072    0.4621994576302768        0.114079\n",
      "sort index               0.011655945561328736   0.0004977774624292124    23.416\n",
      "iterate rows             0.02340574597695877    0.01948813583071569       1.20103\n"
     ]
    }
   ],
   "source": [
    "print(results)"
   ]
  },
  {
   "cell_type": "markdown",
   "metadata": {},
   "source": [
    "Insert in the middle\n",
    "--------------------"
   ]
  },
  {
   "cell_type": "code",
   "execution_count": 86,
   "metadata": {},
   "outputs": [],
   "source": [
    "# First create a 500 row X 100 col matrix for the test. Index is [1, 3, 5, 7,...500] every other\n",
    "\n",
    "col = [x for x in range(1, 1000, 2)]\n",
    "grid = {'a' + str(x): col[:] for x in range(100)}\n",
    "\n",
    "df_rc = rc.DataFrame(data=grid, columns=sorted(grid.keys()), sort=True)\n",
    "df_pd = pd.DataFrame(data=grid, columns=sorted(grid.keys()))"
   ]
  },
  {
   "cell_type": "code",
   "execution_count": 87,
   "metadata": {
    "collapsed": true
   },
   "outputs": [],
   "source": [
    "row = {x:x for x in grid.keys()}"
   ]
  },
  {
   "cell_type": "code",
   "execution_count": 88,
   "metadata": {
    "collapsed": true
   },
   "outputs": [],
   "source": [
    "# set index all columns\n",
    "\n",
    "def insert_rows_rc():\n",
    "    for i in range(0, 999, 2):\n",
    "        x = df_rc.set(indexes=i, values=row)\n",
    "        \n",
    "def insert_rows_pd():\n",
    "    for i in range(0, 999, 2):\n",
    "        x = df_pd.loc[i] = row"
   ]
  },
  {
   "cell_type": "code",
   "execution_count": 89,
   "metadata": {},
   "outputs": [
    {
     "name": "stdout",
     "output_type": "stream",
     "text": [
      "26.4 ms ± 381 µs per loop (mean ± std. dev. of 7 runs, 10 loops each)\n"
     ]
    }
   ],
   "source": [
    "res_rc = %timeit -o insert_rows_rc() "
   ]
  },
  {
   "cell_type": "code",
   "execution_count": 90,
   "metadata": {},
   "outputs": [
    {
     "name": "stdout",
     "output_type": "stream",
     "text": [
      "239 ms ± 2.81 ms per loop (mean ± std. dev. of 7 runs, 1 loop each)\n"
     ]
    }
   ],
   "source": [
    "res_pd = %timeit -o insert_rows_pd()"
   ]
  },
  {
   "cell_type": "code",
   "execution_count": 91,
   "metadata": {
    "collapsed": true
   },
   "outputs": [],
   "source": [
    "add_results('insert rows')"
   ]
  },
  {
   "cell_type": "code",
   "execution_count": 92,
   "metadata": {},
   "outputs": [
    {
     "name": "stdout",
     "output_type": "stream",
     "text": [
      "index                    raccoon                pandas                         ratio\n",
      "-----------------------  ---------------------  ----------------------  ------------\n",
      "version                  2.1.3                  0.20.2\n",
      "initialize empty         0.08496840788127305    2.486505687206119         0.0341718\n",
      "initialize with matrix   8.295801655311905e-05  0.007671599044494002      0.0108137\n",
      "add rows one column      0.04288183311489533    14.87375424325954         0.00288305\n",
      "add matrix               0.008299982997955908   0.1785839394495099        0.0464766\n",
      "append                   0.05763429718412851    0.15777540076405216       0.365293\n",
      "get cell                 0.4936867081052583     0.7425185427150893        0.664881\n",
      "get column all index     0.032696135984224384   0.00030877898993577447  105.888\n",
      "get column subset index  0.42664153398601457    5.714989510943553         0.0746531\n",
      "get index all columns    0.7787561018819247     0.10775676991503928       7.22698\n",
      "set cell                 0.3987260515496587     0.9623946910782024        0.414306\n",
      "set column all index     0.00376809479375936    0.011686656340490344      0.322427\n",
      "set column subset index  0.26396186901109786    22.454482046778423        0.0117554\n",
      "set index all columns    0.05272717698682072    0.4621994576302768        0.114079\n",
      "sort index               0.011655945561328736   0.0004977774624292124    23.416\n",
      "iterate rows             0.02340574597695877    0.01948813583071569       1.20103\n",
      "insert rows              0.025894068785544278   0.2348415172963314        0.110262\n"
     ]
    }
   ],
   "source": [
    "print(results)"
   ]
  },
  {
   "cell_type": "markdown",
   "metadata": {
    "collapsed": true
   },
   "source": [
    "Time Series Append\n",
    "------------------\n",
    "Simulate the recording of a stock on 1 minute intervals and appending to the DataFrame"
   ]
  },
  {
   "cell_type": "code",
   "execution_count": 93,
   "metadata": {
    "collapsed": true
   },
   "outputs": [],
   "source": [
    "data_row = {'open': 100, 'high': 101, 'low': 99, 'close': 100.5, 'volume': 999}\n",
    "\n",
    "dates = pd.date_range('2010-01-01 09:30:00', periods=10000, freq='1min')\n",
    "\n",
    "def time_series_rc():\n",
    "    ts = rc.DataFrame(columns=['open', 'high', 'low', 'close', 'volume'], index_name='datetime', sort=True, use_blist=False)\n",
    "    for date in dates:\n",
    "        ts.set_row(date, data_row)\n",
    "\n",
    "def time_series_pd():\n",
    "    ts = pd.DataFrame(columns=['open', 'high', 'low', 'close', 'volume'])\n",
    "    for date in dates:\n",
    "        ts.loc[date] = data_row"
   ]
  },
  {
   "cell_type": "code",
   "execution_count": 94,
   "metadata": {},
   "outputs": [
    {
     "name": "stdout",
     "output_type": "stream",
     "text": [
      "114 ms ± 9.01 ms per loop (mean ± std. dev. of 7 runs, 10 loops each)\n"
     ]
    }
   ],
   "source": [
    "res_rc = %timeit -o time_series_rc() "
   ]
  },
  {
   "cell_type": "code",
   "execution_count": 95,
   "metadata": {},
   "outputs": [
    {
     "name": "stdout",
     "output_type": "stream",
     "text": [
      "27.2 s ± 4 s per loop (mean ± std. dev. of 7 runs, 1 loop each)\n"
     ]
    }
   ],
   "source": [
    "res_pd = %timeit -o time_series_pd()"
   ]
  },
  {
   "cell_type": "code",
   "execution_count": 96,
   "metadata": {
    "collapsed": true
   },
   "outputs": [],
   "source": [
    "add_results('time series')"
   ]
  },
  {
   "cell_type": "code",
   "execution_count": 97,
   "metadata": {},
   "outputs": [
    {
     "name": "stdout",
     "output_type": "stream",
     "text": [
      "index                    raccoon                pandas                         ratio\n",
      "-----------------------  ---------------------  ----------------------  ------------\n",
      "version                  2.1.3                  0.20.2\n",
      "initialize empty         0.08496840788127305    2.486505687206119         0.0341718\n",
      "initialize with matrix   8.295801655311905e-05  0.007671599044494002      0.0108137\n",
      "add rows one column      0.04288183311489533    14.87375424325954         0.00288305\n",
      "add matrix               0.008299982997955908   0.1785839394495099        0.0464766\n",
      "append                   0.05763429718412851    0.15777540076405216       0.365293\n",
      "get cell                 0.4936867081052583     0.7425185427150893        0.664881\n",
      "get column all index     0.032696135984224384   0.00030877898993577447  105.888\n",
      "get column subset index  0.42664153398601457    5.714989510943553         0.0746531\n",
      "get index all columns    0.7787561018819247     0.10775676991503928       7.22698\n",
      "set cell                 0.3987260515496587     0.9623946910782024        0.414306\n",
      "set column all index     0.00376809479375936    0.011686656340490344      0.322427\n",
      "set column subset index  0.26396186901109786    22.454482046778423        0.0117554\n",
      "set index all columns    0.05272717698682072    0.4621994576302768        0.114079\n",
      "sort index               0.011655945561328736   0.0004977774624292124    23.416\n",
      "iterate rows             0.02340574597695877    0.01948813583071569       1.20103\n",
      "insert rows              0.025894068785544278   0.2348415172963314        0.110262\n",
      "time series              0.10705897210370949    23.24008671488832         0.00460665\n"
     ]
    }
   ],
   "source": [
    "print(results)"
   ]
  },
  {
   "cell_type": "code",
   "execution_count": null,
   "metadata": {
    "collapsed": true
   },
   "outputs": [],
   "source": []
  }
 ],
 "metadata": {
  "kernelspec": {
   "display_name": "Python 3",
   "language": "python",
   "name": "python3"
  },
  "language_info": {
   "codemirror_mode": {
    "name": "ipython",
    "version": 3
   },
   "file_extension": ".py",
   "mimetype": "text/x-python",
   "name": "python",
   "nbconvert_exporter": "python",
   "pygments_lexer": "ipython3",
   "version": "3.6.1"
  }
 },
 "nbformat": 4,
 "nbformat_minor": 1
}
